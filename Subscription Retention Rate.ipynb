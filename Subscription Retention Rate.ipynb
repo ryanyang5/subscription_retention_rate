{
 "cells": [
  {
   "cell_type": "code",
   "execution_count": 1,
   "id": "b9f975c3",
   "metadata": {},
   "outputs": [],
   "source": [
    "import pandas as pd\n",
    "import numpy as np\n",
    "import matplotlib.pyplot as plt\n",
    "import seaborn as sns"
   ]
  },
  {
   "cell_type": "code",
   "execution_count": 2,
   "id": "8be01a50",
   "metadata": {},
   "outputs": [],
   "source": [
    "data = pd.read_csv(\"C:\\\\Users\\\\Xiaochen\\\\Desktop\\\\Project\\\\Subscription\\\\subscription.csv\")"
   ]
  },
  {
   "cell_type": "code",
   "execution_count": 3,
   "id": "9520f69e",
   "metadata": {},
   "outputs": [
    {
     "data": {
      "text/html": [
       "<div>\n",
       "<style scoped>\n",
       "    .dataframe tbody tr th:only-of-type {\n",
       "        vertical-align: middle;\n",
       "    }\n",
       "\n",
       "    .dataframe tbody tr th {\n",
       "        vertical-align: top;\n",
       "    }\n",
       "\n",
       "    .dataframe thead th {\n",
       "        text-align: right;\n",
       "    }\n",
       "</style>\n",
       "<table border=\"1\" class=\"dataframe\">\n",
       "  <thead>\n",
       "    <tr style=\"text-align: right;\">\n",
       "      <th></th>\n",
       "      <th>user_id</th>\n",
       "      <th>subscription_signup_date</th>\n",
       "      <th>subscription_monthly_cost</th>\n",
       "      <th>country</th>\n",
       "      <th>source</th>\n",
       "      <th>billing_cycles</th>\n",
       "      <th>is_active</th>\n",
       "    </tr>\n",
       "  </thead>\n",
       "  <tbody>\n",
       "    <tr>\n",
       "      <th>0</th>\n",
       "      <td>1459</td>\n",
       "      <td>January, 2015</td>\n",
       "      <td>29</td>\n",
       "      <td>Spain</td>\n",
       "      <td>ads</td>\n",
       "      <td>4</td>\n",
       "      <td>0</td>\n",
       "    </tr>\n",
       "    <tr>\n",
       "      <th>1</th>\n",
       "      <td>12474</td>\n",
       "      <td>January, 2015</td>\n",
       "      <td>49</td>\n",
       "      <td>France</td>\n",
       "      <td>ads</td>\n",
       "      <td>5</td>\n",
       "      <td>0</td>\n",
       "    </tr>\n",
       "    <tr>\n",
       "      <th>2</th>\n",
       "      <td>12294</td>\n",
       "      <td>January, 2015</td>\n",
       "      <td>49</td>\n",
       "      <td>Germany</td>\n",
       "      <td>ads</td>\n",
       "      <td>2</td>\n",
       "      <td>0</td>\n",
       "    </tr>\n",
       "    <tr>\n",
       "      <th>3</th>\n",
       "      <td>3878</td>\n",
       "      <td>January, 2015</td>\n",
       "      <td>49</td>\n",
       "      <td>China</td>\n",
       "      <td>ads</td>\n",
       "      <td>1</td>\n",
       "      <td>0</td>\n",
       "    </tr>\n",
       "    <tr>\n",
       "      <th>4</th>\n",
       "      <td>9567</td>\n",
       "      <td>January, 2015</td>\n",
       "      <td>49</td>\n",
       "      <td>UK</td>\n",
       "      <td>ads</td>\n",
       "      <td>5</td>\n",
       "      <td>0</td>\n",
       "    </tr>\n",
       "  </tbody>\n",
       "</table>\n",
       "</div>"
      ],
      "text/plain": [
       "   user_id subscription_signup_date  subscription_monthly_cost  country  \\\n",
       "0     1459            January, 2015                         29    Spain   \n",
       "1    12474            January, 2015                         49   France   \n",
       "2    12294            January, 2015                         49  Germany   \n",
       "3     3878            January, 2015                         49    China   \n",
       "4     9567            January, 2015                         49       UK   \n",
       "\n",
       "  source  billing_cycles  is_active  \n",
       "0    ads               4          0  \n",
       "1    ads               5          0  \n",
       "2    ads               2          0  \n",
       "3    ads               1          0  \n",
       "4    ads               5          0  "
      ]
     },
     "execution_count": 3,
     "metadata": {},
     "output_type": "execute_result"
    }
   ],
   "source": [
    "data.head()"
   ]
  },
  {
   "cell_type": "code",
   "execution_count": 4,
   "id": "e811f44f",
   "metadata": {},
   "outputs": [],
   "source": [
    "# Check if the relationship is linear by using a graph\n",
    "#firstly get count by billing cycle and price point\n",
    "retention_rate_data_points = data.groupby(['subscription_monthly_cost', 'billing_cycles']).size().reset_index(name = 'tmp_count_billing')"
   ]
  },
  {
   "cell_type": "code",
   "execution_count": 5,
   "id": "975b9d39",
   "metadata": {},
   "outputs": [
    {
     "data": {
      "text/html": [
       "<div>\n",
       "<style scoped>\n",
       "    .dataframe tbody tr th:only-of-type {\n",
       "        vertical-align: middle;\n",
       "    }\n",
       "\n",
       "    .dataframe tbody tr th {\n",
       "        vertical-align: top;\n",
       "    }\n",
       "\n",
       "    .dataframe thead th {\n",
       "        text-align: right;\n",
       "    }\n",
       "</style>\n",
       "<table border=\"1\" class=\"dataframe\">\n",
       "  <thead>\n",
       "    <tr style=\"text-align: right;\">\n",
       "      <th></th>\n",
       "      <th>subscription_monthly_cost</th>\n",
       "      <th>billing_cycles</th>\n",
       "      <th>tmp_count_billing</th>\n",
       "    </tr>\n",
       "  </thead>\n",
       "  <tbody>\n",
       "    <tr>\n",
       "      <th>0</th>\n",
       "      <td>29</td>\n",
       "      <td>1</td>\n",
       "      <td>57441</td>\n",
       "    </tr>\n",
       "    <tr>\n",
       "      <th>1</th>\n",
       "      <td>29</td>\n",
       "      <td>2</td>\n",
       "      <td>21818</td>\n",
       "    </tr>\n",
       "    <tr>\n",
       "      <th>2</th>\n",
       "      <td>29</td>\n",
       "      <td>3</td>\n",
       "      <td>12037</td>\n",
       "    </tr>\n",
       "    <tr>\n",
       "      <th>3</th>\n",
       "      <td>29</td>\n",
       "      <td>4</td>\n",
       "      <td>7787</td>\n",
       "    </tr>\n",
       "    <tr>\n",
       "      <th>4</th>\n",
       "      <td>29</td>\n",
       "      <td>5</td>\n",
       "      <td>5505</td>\n",
       "    </tr>\n",
       "    <tr>\n",
       "      <th>5</th>\n",
       "      <td>29</td>\n",
       "      <td>6</td>\n",
       "      <td>4136</td>\n",
       "    </tr>\n",
       "    <tr>\n",
       "      <th>6</th>\n",
       "      <td>29</td>\n",
       "      <td>7</td>\n",
       "      <td>3111</td>\n",
       "    </tr>\n",
       "    <tr>\n",
       "      <th>7</th>\n",
       "      <td>29</td>\n",
       "      <td>8</td>\n",
       "      <td>34527</td>\n",
       "    </tr>\n",
       "    <tr>\n",
       "      <th>8</th>\n",
       "      <td>49</td>\n",
       "      <td>1</td>\n",
       "      <td>185145</td>\n",
       "    </tr>\n",
       "    <tr>\n",
       "      <th>9</th>\n",
       "      <td>49</td>\n",
       "      <td>2</td>\n",
       "      <td>53296</td>\n",
       "    </tr>\n",
       "    <tr>\n",
       "      <th>10</th>\n",
       "      <td>49</td>\n",
       "      <td>3</td>\n",
       "      <td>21690</td>\n",
       "    </tr>\n",
       "    <tr>\n",
       "      <th>11</th>\n",
       "      <td>49</td>\n",
       "      <td>4</td>\n",
       "      <td>11288</td>\n",
       "    </tr>\n",
       "    <tr>\n",
       "      <th>12</th>\n",
       "      <td>49</td>\n",
       "      <td>5</td>\n",
       "      <td>6727</td>\n",
       "    </tr>\n",
       "    <tr>\n",
       "      <th>13</th>\n",
       "      <td>49</td>\n",
       "      <td>6</td>\n",
       "      <td>4405</td>\n",
       "    </tr>\n",
       "    <tr>\n",
       "      <th>14</th>\n",
       "      <td>49</td>\n",
       "      <td>7</td>\n",
       "      <td>3173</td>\n",
       "    </tr>\n",
       "    <tr>\n",
       "      <th>15</th>\n",
       "      <td>49</td>\n",
       "      <td>8</td>\n",
       "      <td>14673</td>\n",
       "    </tr>\n",
       "    <tr>\n",
       "      <th>16</th>\n",
       "      <td>99</td>\n",
       "      <td>1</td>\n",
       "      <td>44788</td>\n",
       "    </tr>\n",
       "    <tr>\n",
       "      <th>17</th>\n",
       "      <td>99</td>\n",
       "      <td>2</td>\n",
       "      <td>4724</td>\n",
       "    </tr>\n",
       "    <tr>\n",
       "      <th>18</th>\n",
       "      <td>99</td>\n",
       "      <td>3</td>\n",
       "      <td>1471</td>\n",
       "    </tr>\n",
       "    <tr>\n",
       "      <th>19</th>\n",
       "      <td>99</td>\n",
       "      <td>4</td>\n",
       "      <td>678</td>\n",
       "    </tr>\n",
       "    <tr>\n",
       "      <th>20</th>\n",
       "      <td>99</td>\n",
       "      <td>5</td>\n",
       "      <td>399</td>\n",
       "    </tr>\n",
       "    <tr>\n",
       "      <th>21</th>\n",
       "      <td>99</td>\n",
       "      <td>6</td>\n",
       "      <td>226</td>\n",
       "    </tr>\n",
       "    <tr>\n",
       "      <th>22</th>\n",
       "      <td>99</td>\n",
       "      <td>7</td>\n",
       "      <td>156</td>\n",
       "    </tr>\n",
       "    <tr>\n",
       "      <th>23</th>\n",
       "      <td>99</td>\n",
       "      <td>8</td>\n",
       "      <td>799</td>\n",
       "    </tr>\n",
       "  </tbody>\n",
       "</table>\n",
       "</div>"
      ],
      "text/plain": [
       "    subscription_monthly_cost  billing_cycles  tmp_count_billing\n",
       "0                          29               1              57441\n",
       "1                          29               2              21818\n",
       "2                          29               3              12037\n",
       "3                          29               4               7787\n",
       "4                          29               5               5505\n",
       "5                          29               6               4136\n",
       "6                          29               7               3111\n",
       "7                          29               8              34527\n",
       "8                          49               1             185145\n",
       "9                          49               2              53296\n",
       "10                         49               3              21690\n",
       "11                         49               4              11288\n",
       "12                         49               5               6727\n",
       "13                         49               6               4405\n",
       "14                         49               7               3173\n",
       "15                         49               8              14673\n",
       "16                         99               1              44788\n",
       "17                         99               2               4724\n",
       "18                         99               3               1471\n",
       "19                         99               4                678\n",
       "20                         99               5                399\n",
       "21                         99               6                226\n",
       "22                         99               7                156\n",
       "23                         99               8                799"
      ]
     },
     "execution_count": 5,
     "metadata": {},
     "output_type": "execute_result"
    }
   ],
   "source": [
    "retention_rate_data_points"
   ]
  },
  {
   "cell_type": "code",
   "execution_count": 6,
   "id": "95018d0f",
   "metadata": {},
   "outputs": [],
   "source": [
    "#then estimate retention rate: cumulative sum by billing cycle divided by total users gives churn rate\n",
    "#i.e. 1 - churn_rate is actual retention rate\n",
    "retention_rate_data_points['retention_rate'] = retention_rate_data_points.groupby('subscription_monthly_cost')['tmp_count_billing'].transform(\n",
    "                                               lambda x: 1-x.cumsum()/x.sum()\n",
    "                                               )"
   ]
  },
  {
   "cell_type": "code",
   "execution_count": 8,
   "id": "a343c242",
   "metadata": {},
   "outputs": [
    {
     "data": {
      "text/html": [
       "<div>\n",
       "<style scoped>\n",
       "    .dataframe tbody tr th:only-of-type {\n",
       "        vertical-align: middle;\n",
       "    }\n",
       "\n",
       "    .dataframe tbody tr th {\n",
       "        vertical-align: top;\n",
       "    }\n",
       "\n",
       "    .dataframe thead th {\n",
       "        text-align: right;\n",
       "    }\n",
       "</style>\n",
       "<table border=\"1\" class=\"dataframe\">\n",
       "  <thead>\n",
       "    <tr style=\"text-align: right;\">\n",
       "      <th></th>\n",
       "      <th>subscription_monthly_cost</th>\n",
       "      <th>billing_cycles</th>\n",
       "      <th>tmp_count_billing</th>\n",
       "      <th>retention_rate</th>\n",
       "    </tr>\n",
       "  </thead>\n",
       "  <tbody>\n",
       "    <tr>\n",
       "      <th>0</th>\n",
       "      <td>29</td>\n",
       "      <td>1</td>\n",
       "      <td>57441</td>\n",
       "      <td>0.607542</td>\n",
       "    </tr>\n",
       "    <tr>\n",
       "      <th>1</th>\n",
       "      <td>29</td>\n",
       "      <td>2</td>\n",
       "      <td>21818</td>\n",
       "      <td>0.458473</td>\n",
       "    </tr>\n",
       "    <tr>\n",
       "      <th>2</th>\n",
       "      <td>29</td>\n",
       "      <td>3</td>\n",
       "      <td>12037</td>\n",
       "      <td>0.376232</td>\n",
       "    </tr>\n",
       "    <tr>\n",
       "      <th>3</th>\n",
       "      <td>29</td>\n",
       "      <td>4</td>\n",
       "      <td>7787</td>\n",
       "      <td>0.323028</td>\n",
       "    </tr>\n",
       "    <tr>\n",
       "      <th>4</th>\n",
       "      <td>29</td>\n",
       "      <td>5</td>\n",
       "      <td>5505</td>\n",
       "      <td>0.285416</td>\n",
       "    </tr>\n",
       "    <tr>\n",
       "      <th>5</th>\n",
       "      <td>29</td>\n",
       "      <td>6</td>\n",
       "      <td>4136</td>\n",
       "      <td>0.257157</td>\n",
       "    </tr>\n",
       "    <tr>\n",
       "      <th>6</th>\n",
       "      <td>29</td>\n",
       "      <td>7</td>\n",
       "      <td>3111</td>\n",
       "      <td>0.235901</td>\n",
       "    </tr>\n",
       "    <tr>\n",
       "      <th>7</th>\n",
       "      <td>29</td>\n",
       "      <td>8</td>\n",
       "      <td>34527</td>\n",
       "      <td>0.000000</td>\n",
       "    </tr>\n",
       "    <tr>\n",
       "      <th>8</th>\n",
       "      <td>49</td>\n",
       "      <td>1</td>\n",
       "      <td>185145</td>\n",
       "      <td>0.383666</td>\n",
       "    </tr>\n",
       "    <tr>\n",
       "      <th>9</th>\n",
       "      <td>49</td>\n",
       "      <td>2</td>\n",
       "      <td>53296</td>\n",
       "      <td>0.206247</td>\n",
       "    </tr>\n",
       "    <tr>\n",
       "      <th>10</th>\n",
       "      <td>49</td>\n",
       "      <td>3</td>\n",
       "      <td>21690</td>\n",
       "      <td>0.134043</td>\n",
       "    </tr>\n",
       "    <tr>\n",
       "      <th>11</th>\n",
       "      <td>49</td>\n",
       "      <td>4</td>\n",
       "      <td>11288</td>\n",
       "      <td>0.096466</td>\n",
       "    </tr>\n",
       "    <tr>\n",
       "      <th>12</th>\n",
       "      <td>49</td>\n",
       "      <td>5</td>\n",
       "      <td>6727</td>\n",
       "      <td>0.074072</td>\n",
       "    </tr>\n",
       "    <tr>\n",
       "      <th>13</th>\n",
       "      <td>49</td>\n",
       "      <td>6</td>\n",
       "      <td>4405</td>\n",
       "      <td>0.059408</td>\n",
       "    </tr>\n",
       "    <tr>\n",
       "      <th>14</th>\n",
       "      <td>49</td>\n",
       "      <td>7</td>\n",
       "      <td>3173</td>\n",
       "      <td>0.048845</td>\n",
       "    </tr>\n",
       "    <tr>\n",
       "      <th>15</th>\n",
       "      <td>49</td>\n",
       "      <td>8</td>\n",
       "      <td>14673</td>\n",
       "      <td>0.000000</td>\n",
       "    </tr>\n",
       "    <tr>\n",
       "      <th>16</th>\n",
       "      <td>99</td>\n",
       "      <td>1</td>\n",
       "      <td>44788</td>\n",
       "      <td>0.158769</td>\n",
       "    </tr>\n",
       "    <tr>\n",
       "      <th>17</th>\n",
       "      <td>99</td>\n",
       "      <td>2</td>\n",
       "      <td>4724</td>\n",
       "      <td>0.070040</td>\n",
       "    </tr>\n",
       "    <tr>\n",
       "      <th>18</th>\n",
       "      <td>99</td>\n",
       "      <td>3</td>\n",
       "      <td>1471</td>\n",
       "      <td>0.042411</td>\n",
       "    </tr>\n",
       "    <tr>\n",
       "      <th>19</th>\n",
       "      <td>99</td>\n",
       "      <td>4</td>\n",
       "      <td>678</td>\n",
       "      <td>0.029676</td>\n",
       "    </tr>\n",
       "    <tr>\n",
       "      <th>20</th>\n",
       "      <td>99</td>\n",
       "      <td>5</td>\n",
       "      <td>399</td>\n",
       "      <td>0.022182</td>\n",
       "    </tr>\n",
       "    <tr>\n",
       "      <th>21</th>\n",
       "      <td>99</td>\n",
       "      <td>6</td>\n",
       "      <td>226</td>\n",
       "      <td>0.017937</td>\n",
       "    </tr>\n",
       "    <tr>\n",
       "      <th>22</th>\n",
       "      <td>99</td>\n",
       "      <td>7</td>\n",
       "      <td>156</td>\n",
       "      <td>0.015007</td>\n",
       "    </tr>\n",
       "    <tr>\n",
       "      <th>23</th>\n",
       "      <td>99</td>\n",
       "      <td>8</td>\n",
       "      <td>799</td>\n",
       "      <td>0.000000</td>\n",
       "    </tr>\n",
       "  </tbody>\n",
       "</table>\n",
       "</div>"
      ],
      "text/plain": [
       "    subscription_monthly_cost  billing_cycles  tmp_count_billing  \\\n",
       "0                          29               1              57441   \n",
       "1                          29               2              21818   \n",
       "2                          29               3              12037   \n",
       "3                          29               4               7787   \n",
       "4                          29               5               5505   \n",
       "5                          29               6               4136   \n",
       "6                          29               7               3111   \n",
       "7                          29               8              34527   \n",
       "8                          49               1             185145   \n",
       "9                          49               2              53296   \n",
       "10                         49               3              21690   \n",
       "11                         49               4              11288   \n",
       "12                         49               5               6727   \n",
       "13                         49               6               4405   \n",
       "14                         49               7               3173   \n",
       "15                         49               8              14673   \n",
       "16                         99               1              44788   \n",
       "17                         99               2               4724   \n",
       "18                         99               3               1471   \n",
       "19                         99               4                678   \n",
       "20                         99               5                399   \n",
       "21                         99               6                226   \n",
       "22                         99               7                156   \n",
       "23                         99               8                799   \n",
       "\n",
       "    retention_rate  \n",
       "0         0.607542  \n",
       "1         0.458473  \n",
       "2         0.376232  \n",
       "3         0.323028  \n",
       "4         0.285416  \n",
       "5         0.257157  \n",
       "6         0.235901  \n",
       "7         0.000000  \n",
       "8         0.383666  \n",
       "9         0.206247  \n",
       "10        0.134043  \n",
       "11        0.096466  \n",
       "12        0.074072  \n",
       "13        0.059408  \n",
       "14        0.048845  \n",
       "15        0.000000  \n",
       "16        0.158769  \n",
       "17        0.070040  \n",
       "18        0.042411  \n",
       "19        0.029676  \n",
       "20        0.022182  \n",
       "21        0.017937  \n",
       "22        0.015007  \n",
       "23        0.000000  "
      ]
     },
     "execution_count": 8,
     "metadata": {},
     "output_type": "execute_result"
    }
   ],
   "source": [
    "retention_rate_data_points"
   ]
  },
  {
   "cell_type": "code",
   "execution_count": 9,
   "id": "68293e35",
   "metadata": {},
   "outputs": [],
   "source": [
    "# remove tmp_count_billing column and billing cycle == 8 because those are still active\n",
    "retention_rate_data_points = retention_rate_data_points.drop('tmp_count_billing', 1).query('billing_cycles < 8')"
   ]
  },
  {
   "cell_type": "code",
   "execution_count": 10,
   "id": "ac08a597",
   "metadata": {},
   "outputs": [
    {
     "data": {
      "image/png": "[encoded data removed]",
      "text/plain": [
       "<Figure size 432x288 with 1 Axes>"
      ]
     },
     "metadata": {
      "needs_background": "light"
     },
     "output_type": "display_data"
    }
   ],
   "source": [
    "# Plot the graph\n",
    "sns.lineplot(x=\"billing_cycles\", y=\"retention_rate\", \n",
    "             hue=\"subscription_monthly_cost\", data=retention_rate_data_points, legend=\"full\"\n",
    "             )\n",
    "plt.show()"
   ]
  },
  {
   "cell_type": "code",
   "execution_count": 11,
   "id": "237354e1",
   "metadata": {},
   "outputs": [
    {
     "data": {
      "image/png": "[encoded data removed]",
      "text/plain": [
       "<Figure size 432x288 with 1 Axes>"
      ]
     },
     "metadata": {
      "needs_background": "light"
     },
     "output_type": "display_data"
    }
   ],
   "source": [
    "# The relationship is non-linear. We need to use log to transform it to a linear relationship\n",
    "retention_rate_data_points[\"billing_log\"] = np.log(retention_rate_data_points[\"billing_cycles\"])\n",
    "\n",
    "retention_rate_data_points[\"retention_rate_log\"] = np.log(retention_rate_data_points[\"retention_rate\"])\n",
    "\n",
    "#plot \n",
    "sns.lineplot(x=\"billing_log\", y=\"retention_rate_log\", \n",
    "             hue=\"subscription_monthly_cost\", data=retention_rate_data_points, legend=\"full\"\n",
    "             )\n",
    "plt.show()"
   ]
  },
  {
   "cell_type": "markdown",
   "id": "3cb89198",
   "metadata": {},
   "source": [
    "### Build the model"
   ]
  },
  {
   "cell_type": "code",
   "execution_count": 12,
   "id": "82f8d27a",
   "metadata": {},
   "outputs": [],
   "source": [
    "import statsmodels.api as sm"
   ]
  },
  {
   "cell_type": "code",
   "execution_count": 13,
   "id": "27d70f89",
   "metadata": {},
   "outputs": [],
   "source": [
    "#build linear model for price 29\n",
    "y29 = retention_rate_data_points.query('subscription_monthly_cost==29')['retention_rate_log']\n",
    "X29 = retention_rate_data_points.query('subscription_monthly_cost==29')['billing_log']\n",
    "X29 = sm.add_constant(X29)"
   ]
  },
  {
   "cell_type": "code",
   "execution_count": 14,
   "id": "0b6bd159",
   "metadata": {},
   "outputs": [
    {
     "name": "stdout",
     "output_type": "stream",
     "text": [
      "R Squared for $29 is: 0.99\n"
     ]
    }
   ],
   "source": [
    "model29 = sm.OLS(y29, X29)\n",
    "results29 = model29.fit()\n",
    "print(\"R Squared for $29 is:\", round(results29.rsquared,2))"
   ]
  },
  {
   "cell_type": "code",
   "execution_count": 16,
   "id": "0dd4904c",
   "metadata": {
    "scrolled": true
   },
   "outputs": [
    {
     "name": "stdout",
     "output_type": "stream",
     "text": [
      "R Squared for $49 is: 1.0\n"
     ]
    }
   ],
   "source": [
    "#build linear model for price 49\n",
    "y49 = retention_rate_data_points.query('subscription_monthly_cost==49')['retention_rate_log']\n",
    "X49 = retention_rate_data_points.query('subscription_monthly_cost==49')['billing_log']\n",
    "X49 = sm.add_constant(X49)\n",
    "  \n",
    "model49 = sm.OLS(y49, X49)\n",
    "results49 = model49.fit()\n",
    "print(\"R Squared for $49 is:\", round(results49.rsquared,2))"
   ]
  },
  {
   "cell_type": "code",
   "execution_count": 17,
   "id": "665e6e0e",
   "metadata": {},
   "outputs": [
    {
     "name": "stdout",
     "output_type": "stream",
     "text": [
      "R Squared for $99 is: 1.0\n"
     ]
    }
   ],
   "source": [
    "#build linear model for price 99\n",
    "y99 = retention_rate_data_points.query('subscription_monthly_cost==99')['retention_rate_log']\n",
    "X99 = retention_rate_data_points.query('subscription_monthly_cost==99')['billing_log']\n",
    "X99 = sm.add_constant(X99)\n",
    "  \n",
    "model99 = sm.OLS(y99, X99)\n",
    "results99 = model99.fit()\n",
    "print(\"R Squared for $99 is:\", round(results99.rsquared,2))"
   ]
  },
  {
   "cell_type": "markdown",
   "id": "ff9e8a27",
   "metadata": {},
   "source": [
    "### Make the predictions for percentage of users is still subscribed after at least 12 months for each price point"
   ]
  },
  {
   "cell_type": "code",
   "execution_count": 18,
   "id": "85ff9125",
   "metadata": {},
   "outputs": [
    {
     "name": "stdout",
     "output_type": "stream",
     "text": [
      "[-1.48549968 -1.54324007 -1.5948906  -1.64161419 -1.68426949]\n"
     ]
    }
   ],
   "source": [
    "#make the predictions\n",
    "Xpred = np.log(range(8,13))\n",
    "Xpred = sm.add_constant(Xpred)\n",
    "print(results29.predict(Xpred))"
   ]
  },
  {
   "cell_type": "code",
   "execution_count": 19,
   "id": "575ca6dc",
   "metadata": {},
   "outputs": [
    {
     "name": "stdout",
     "output_type": "stream",
     "text": [
      "[0.22638919 0.21368762 0.20293073 0.19366717 0.18557995]\n"
     ]
    }
   ],
   "source": [
    "# take the exponential of those predictions\n",
    "print(np.exp(results29.predict(Xpred)))"
   ]
  },
  {
   "cell_type": "code",
   "execution_count": 20,
   "id": "b5b334d9",
   "metadata": {},
   "outputs": [
    {
     "name": "stdout",
     "output_type": "stream",
     "text": [
      "For the $29 price point, after 1 year, we will retain 0.186 of our customers\n"
     ]
    }
   ],
   "source": [
    "print(\"For the $29 price point, after 1 year, we will retain\", \n",
    "      round(np.exp(results29.predict(Xpred))[4], 3), \n",
    "     \"of our customers\")"
   ]
  },
  {
   "cell_type": "code",
   "execution_count": 21,
   "id": "40508c9e",
   "metadata": {},
   "outputs": [
    {
     "name": "stdout",
     "output_type": "stream",
     "text": [
      "For the $49 price point, after 1 year, we will retain 0.029 of our customers\n"
     ]
    }
   ],
   "source": [
    "print(\"For the $49 price point, after 1 year, we will retain\", \n",
    "      round(np.exp(results49.predict(Xpred))[4], 3), \n",
    "     \"of our customers\")"
   ]
  },
  {
   "cell_type": "code",
   "execution_count": 22,
   "id": "55b822ea",
   "metadata": {},
   "outputs": [
    {
     "name": "stdout",
     "output_type": "stream",
     "text": [
      "For the $99 price point, after 1 year, we will retain 0.008 of our customers\n"
     ]
    }
   ],
   "source": [
    "print(\"For the $99 price point, after 1 year, we will retain\", \n",
    "      round(np.exp(results99.predict(Xpred))[4], 3), \n",
    "     \"of our customers\")"
   ]
  },
  {
   "cell_type": "markdown",
   "id": "6f1ebb02",
   "metadata": {},
   "source": [
    "### Calculate the customer LTV"
   ]
  },
  {
   "cell_type": "code",
   "execution_count": 25,
   "id": "968dcd47",
   "metadata": {},
   "outputs": [
    {
     "data": {
      "text/plain": [
       "array([0.62744329, 0.44668519, 0.36616507, 0.3180011 , 0.2850498 ,\n",
       "       0.26067776, 0.24170458, 0.22638919, 0.21368762, 0.20293073,\n",
       "       0.19366717, 0.18557995])"
      ]
     },
     "execution_count": 25,
     "metadata": {},
     "output_type": "execute_result"
    }
   ],
   "source": [
    "#The models work well enough that we can directly use their predictions for all 12 billing cycle to estimate customer LTV.\n",
    "  \n",
    "Xpred = np.log(range(1,13))\n",
    "Xpred = sm.add_constant(Xpred)\n",
    "#Firstly get retention rate for each billing cycle\n",
    "retention_rate_tmp = np.exp(results29.predict(Xpred))\n",
    "retention_rate_tmp"
   ]
  },
  {
   "cell_type": "code",
   "execution_count": 26,
   "id": "dc524b0d",
   "metadata": {},
   "outputs": [
    {
     "name": "stdout",
     "output_type": "stream",
     "text": [
      "Avg LTV of customers paying $29 a month is: 132 dollars\n"
     ]
    }
   ],
   "source": [
    "#Then get overall expected value by multiplying each probability * corresponding money at each billing cycle.\n",
    "LTV_29 = 29 + sum(retention_rate_tmp * 29)\n",
    "print(\"Avg LTV of customers paying $29 a month is:\", round(LTV_29), \"dollars\")"
   ]
  },
  {
   "cell_type": "code",
   "execution_count": 27,
   "id": "577fa9d6",
   "metadata": {},
   "outputs": [
    {
     "name": "stdout",
     "output_type": "stream",
     "text": [
      "Avg LTV of customers paying $49 a month is: 107 dollars\n"
     ]
    }
   ],
   "source": [
    "retention_rate_tmp = np.exp(results49.predict(Xpred))\n",
    "LTV_49 = 49 + sum(retention_rate_tmp * 49)\n",
    "print(\"Avg LTV of customers paying $49 a month is:\", round(LTV_49), \"dollars\")"
   ]
  },
  {
   "cell_type": "code",
   "execution_count": 28,
   "id": "f910d07f",
   "metadata": {},
   "outputs": [
    {
     "name": "stdout",
     "output_type": "stream",
     "text": [
      "Avg LTV of customers paying $99 a month is: 139 dollars\n"
     ]
    }
   ],
   "source": [
    "retention_rate_tmp = np.exp(results99.predict(Xpred))\n",
    "LTV_99 = 99 + sum(retention_rate_tmp * 99)\n",
    "print(\"Avg LTV of customers paying $99 a month is:\", round(LTV_99), \"dollars\")"
   ]
  },
  {
   "cell_type": "markdown",
   "id": "c9e5bfca",
   "metadata": {},
   "source": [
    "#### Insights\n",
    "- 99 price point has the highest LTV\n",
    "- Considering 29 price point has a much higher 1-year retention rate, if we have a larger window to define the LTV, 29 will likely to have the best one"
   ]
  },
  {
   "cell_type": "markdown",
   "id": "f9aaf5c9",
   "metadata": {},
   "source": [
    "### Check if country and source affect the retention rate"
   ]
  },
  {
   "cell_type": "code",
   "execution_count": 29,
   "id": "80ba635f",
   "metadata": {},
   "outputs": [
    {
     "data": {
      "text/html": [
       "<div>\n",
       "<style scoped>\n",
       "    .dataframe tbody tr th:only-of-type {\n",
       "        vertical-align: middle;\n",
       "    }\n",
       "\n",
       "    .dataframe tbody tr th {\n",
       "        vertical-align: top;\n",
       "    }\n",
       "\n",
       "    .dataframe thead th {\n",
       "        text-align: right;\n",
       "    }\n",
       "</style>\n",
       "<table border=\"1\" class=\"dataframe\">\n",
       "  <thead>\n",
       "    <tr style=\"text-align: right;\">\n",
       "      <th></th>\n",
       "      <th>country</th>\n",
       "      <th>subscription_monthly_cost</th>\n",
       "      <th>retention_rate</th>\n",
       "      <th>count</th>\n",
       "      <th>revenue</th>\n",
       "    </tr>\n",
       "  </thead>\n",
       "  <tbody>\n",
       "    <tr>\n",
       "      <th>0</th>\n",
       "      <td>China</td>\n",
       "      <td>29</td>\n",
       "      <td>0.611194</td>\n",
       "      <td>16741.0</td>\n",
       "      <td>168.266173</td>\n",
       "    </tr>\n",
       "    <tr>\n",
       "      <th>1</th>\n",
       "      <td>China</td>\n",
       "      <td>49</td>\n",
       "      <td>0.020603</td>\n",
       "      <td>18541.0</td>\n",
       "      <td>77.103446</td>\n",
       "    </tr>\n",
       "    <tr>\n",
       "      <th>2</th>\n",
       "      <td>China</td>\n",
       "      <td>99</td>\n",
       "      <td>0.006098</td>\n",
       "      <td>656.0</td>\n",
       "      <td>119.373476</td>\n",
       "    </tr>\n",
       "    <tr>\n",
       "      <th>3</th>\n",
       "      <td>France</td>\n",
       "      <td>29</td>\n",
       "      <td>0.132290</td>\n",
       "      <td>14249.0</td>\n",
       "      <td>84.166959</td>\n",
       "    </tr>\n",
       "    <tr>\n",
       "      <th>4</th>\n",
       "      <td>France</td>\n",
       "      <td>49</td>\n",
       "      <td>0.020660</td>\n",
       "      <td>31074.0</td>\n",
       "      <td>77.692927</td>\n",
       "    </tr>\n",
       "    <tr>\n",
       "      <th>5</th>\n",
       "      <td>France</td>\n",
       "      <td>99</td>\n",
       "      <td>0.006310</td>\n",
       "      <td>6339.0</td>\n",
       "      <td>116.132513</td>\n",
       "    </tr>\n",
       "    <tr>\n",
       "      <th>6</th>\n",
       "      <td>Germany</td>\n",
       "      <td>29</td>\n",
       "      <td>0.125172</td>\n",
       "      <td>21794.0</td>\n",
       "      <td>83.057309</td>\n",
       "    </tr>\n",
       "    <tr>\n",
       "      <th>7</th>\n",
       "      <td>Germany</td>\n",
       "      <td>49</td>\n",
       "      <td>0.071946</td>\n",
       "      <td>55500.0</td>\n",
       "      <td>115.050234</td>\n",
       "    </tr>\n",
       "    <tr>\n",
       "      <th>8</th>\n",
       "      <td>Germany</td>\n",
       "      <td>99</td>\n",
       "      <td>0.022146</td>\n",
       "      <td>11650.0</td>\n",
       "      <td>145.636223</td>\n",
       "    </tr>\n",
       "    <tr>\n",
       "      <th>9</th>\n",
       "      <td>India</td>\n",
       "      <td>29</td>\n",
       "      <td>0.605556</td>\n",
       "      <td>16920.0</td>\n",
       "      <td>167.610402</td>\n",
       "    </tr>\n",
       "    <tr>\n",
       "      <th>10</th>\n",
       "      <td>India</td>\n",
       "      <td>49</td>\n",
       "      <td>0.020981</td>\n",
       "      <td>27644.0</td>\n",
       "      <td>77.165606</td>\n",
       "    </tr>\n",
       "    <tr>\n",
       "      <th>11</th>\n",
       "      <td>India</td>\n",
       "      <td>99</td>\n",
       "      <td>0.004909</td>\n",
       "      <td>3463.0</td>\n",
       "      <td>116.066994</td>\n",
       "    </tr>\n",
       "    <tr>\n",
       "      <th>12</th>\n",
       "      <td>Italy</td>\n",
       "      <td>29</td>\n",
       "      <td>0.123350</td>\n",
       "      <td>13336.0</td>\n",
       "      <td>82.974880</td>\n",
       "    </tr>\n",
       "    <tr>\n",
       "      <th>13</th>\n",
       "      <td>Italy</td>\n",
       "      <td>49</td>\n",
       "      <td>0.021672</td>\n",
       "      <td>29578.0</td>\n",
       "      <td>77.906654</td>\n",
       "    </tr>\n",
       "    <tr>\n",
       "      <th>14</th>\n",
       "      <td>Italy</td>\n",
       "      <td>99</td>\n",
       "      <td>0.005501</td>\n",
       "      <td>4545.0</td>\n",
       "      <td>117.405941</td>\n",
       "    </tr>\n",
       "    <tr>\n",
       "      <th>15</th>\n",
       "      <td>Spain</td>\n",
       "      <td>29</td>\n",
       "      <td>0.125108</td>\n",
       "      <td>12725.0</td>\n",
       "      <td>83.458468</td>\n",
       "    </tr>\n",
       "    <tr>\n",
       "      <th>16</th>\n",
       "      <td>Spain</td>\n",
       "      <td>49</td>\n",
       "      <td>0.020138</td>\n",
       "      <td>27709.0</td>\n",
       "      <td>77.073009</td>\n",
       "    </tr>\n",
       "    <tr>\n",
       "      <th>17</th>\n",
       "      <td>Spain</td>\n",
       "      <td>99</td>\n",
       "      <td>0.007028</td>\n",
       "      <td>4553.0</td>\n",
       "      <td>117.330112</td>\n",
       "    </tr>\n",
       "    <tr>\n",
       "      <th>18</th>\n",
       "      <td>UK</td>\n",
       "      <td>29</td>\n",
       "      <td>0.124181</td>\n",
       "      <td>25181.0</td>\n",
       "      <td>83.686669</td>\n",
       "    </tr>\n",
       "    <tr>\n",
       "      <th>19</th>\n",
       "      <td>UK</td>\n",
       "      <td>49</td>\n",
       "      <td>0.071153</td>\n",
       "      <td>54966.0</td>\n",
       "      <td>114.731816</td>\n",
       "    </tr>\n",
       "    <tr>\n",
       "      <th>20</th>\n",
       "      <td>UK</td>\n",
       "      <td>99</td>\n",
       "      <td>0.019451</td>\n",
       "      <td>11105.0</td>\n",
       "      <td>144.341198</td>\n",
       "    </tr>\n",
       "    <tr>\n",
       "      <th>21</th>\n",
       "      <td>US</td>\n",
       "      <td>29</td>\n",
       "      <td>0.120869</td>\n",
       "      <td>25416.0</td>\n",
       "      <td>82.750866</td>\n",
       "    </tr>\n",
       "    <tr>\n",
       "      <th>22</th>\n",
       "      <td>US</td>\n",
       "      <td>49</td>\n",
       "      <td>0.071608</td>\n",
       "      <td>55385.0</td>\n",
       "      <td>115.027246</td>\n",
       "    </tr>\n",
       "    <tr>\n",
       "      <th>23</th>\n",
       "      <td>US</td>\n",
       "      <td>99</td>\n",
       "      <td>0.018939</td>\n",
       "      <td>10930.0</td>\n",
       "      <td>143.056359</td>\n",
       "    </tr>\n",
       "  </tbody>\n",
       "</table>\n",
       "</div>"
      ],
      "text/plain": [
       "    country  subscription_monthly_cost  retention_rate    count     revenue\n",
       "0     China                         29        0.611194  16741.0  168.266173\n",
       "1     China                         49        0.020603  18541.0   77.103446\n",
       "2     China                         99        0.006098    656.0  119.373476\n",
       "3    France                         29        0.132290  14249.0   84.166959\n",
       "4    France                         49        0.020660  31074.0   77.692927\n",
       "5    France                         99        0.006310   6339.0  116.132513\n",
       "6   Germany                         29        0.125172  21794.0   83.057309\n",
       "7   Germany                         49        0.071946  55500.0  115.050234\n",
       "8   Germany                         99        0.022146  11650.0  145.636223\n",
       "9     India                         29        0.605556  16920.0  167.610402\n",
       "10    India                         49        0.020981  27644.0   77.165606\n",
       "11    India                         99        0.004909   3463.0  116.066994\n",
       "12    Italy                         29        0.123350  13336.0   82.974880\n",
       "13    Italy                         49        0.021672  29578.0   77.906654\n",
       "14    Italy                         99        0.005501   4545.0  117.405941\n",
       "15    Spain                         29        0.125108  12725.0   83.458468\n",
       "16    Spain                         49        0.020138  27709.0   77.073009\n",
       "17    Spain                         99        0.007028   4553.0  117.330112\n",
       "18       UK                         29        0.124181  25181.0   83.686669\n",
       "19       UK                         49        0.071153  54966.0  114.731816\n",
       "20       UK                         99        0.019451  11105.0  144.341198\n",
       "21       US                         29        0.120869  25416.0   82.750866\n",
       "22       US                         49        0.071608  55385.0  115.027246\n",
       "23       US                         99        0.018939  10930.0  143.056359"
      ]
     },
     "execution_count": 29,
     "metadata": {},
     "output_type": "execute_result"
    }
   ],
   "source": [
    "#group by country and price and check retention rate as defined above\n",
    "country_retention = data.groupby(['country', 'subscription_monthly_cost']).apply(\n",
    "                    lambda x: pd.Series({\n",
    "                             # active users\n",
    "                            'retention_rate': x['is_active'].mean(),\n",
    "                             # total count by price and country\n",
    "                            'count': x['is_active'].count(),\n",
    "                            # avg revenue by price and country\n",
    "                            'revenue' : (x['subscription_monthly_cost'] * x['billing_cycles']).mean()\n",
    "  })\n",
    ").reset_index()\n",
    "country_retention"
   ]
  },
  {
   "cell_type": "code",
   "execution_count": 30,
   "id": "ec539d2a",
   "metadata": {},
   "outputs": [
    {
     "data": {
      "image/png": "[encoded data removed]",
      "text/plain": [
       "<Figure size 432x288 with 1 Axes>"
      ]
     },
     "metadata": {
      "needs_background": "light"
     },
     "output_type": "display_data"
    }
   ],
   "source": [
    "# Plot retention rate by country and price\n",
    "sns.barplot(x=\"country\", hue=\"subscription_monthly_cost\", y=\"retention_rate\", data=country_retention)\n",
    "plt.show()"
   ]
  },
  {
   "cell_type": "code",
   "execution_count": 31,
   "id": "4dbbcf5e",
   "metadata": {},
   "outputs": [
    {
     "data": {
      "image/png": "[encoded data removed]",
      "text/plain": [
       "<Figure size 432x288 with 1 Axes>"
      ]
     },
     "metadata": {
      "needs_background": "light"
     },
     "output_type": "display_data"
    }
   ],
   "source": [
    "# Plot user count by country and price\n",
    "sns.barplot(x=\"country\", hue=\"subscription_monthly_cost\", y=\"count\", data=country_retention)\n",
    "plt.show()"
   ]
  },
  {
   "cell_type": "code",
   "execution_count": 32,
   "id": "0cba19c9",
   "metadata": {},
   "outputs": [
    {
     "data": {
      "image/png": "[encoded data removed]",
      "text/plain": [
       "<Figure size 432x288 with 1 Axes>"
      ]
     },
     "metadata": {
      "needs_background": "light"
     },
     "output_type": "display_data"
    }
   ],
   "source": [
    "# Avg user revenue for each country within the first 8 months\n",
    "sns.barplot(x=\"country\", hue=\"subscription_monthly_cost\", y=\"revenue\", data=country_retention)\n",
    "plt.show()"
   ]
  },
  {
   "cell_type": "markdown",
   "id": "26a3b3f5",
   "metadata": {},
   "source": [
    "#### Insights\n",
    "- China and India have much higher retention rate at the \\\\$29 price point. There are more price- sensetive users in these two countries\n",
    "- When looking at the user revenue, the best price point for China and India is \\\\$29, but the best price point for the other countries is $99. But all countries have the most users for the middile price\n",
    "- If we could shift users towards the optimal price point, this would increase user LTV, and that would have several positive effects, beside the obvious revenue gain. For instance, higher LTV means that we could bid higher for ads, and therefore grow much faster\n",
    "- The goal is essentially to make given price points more attractive on a country basis. A way to achieve this would be to change the UI so that, for each country, the optimal price point is more prominent.\n",
    "Another approach could be to look into how users from each country are using the product. Figure out what they like the most and then play around with each price point features in such a way that the best price has the most attractive features for each country.\n",
    "Another approach could be targeted/regional coupons"
   ]
  },
  {
   "cell_type": "markdown",
   "id": "c43e7447",
   "metadata": {},
   "source": [
    "### Check if country and source affect the retention rate"
   ]
  },
  {
   "cell_type": "code",
   "execution_count": 33,
   "id": "8a8958fb",
   "metadata": {},
   "outputs": [
    {
     "data": {
      "text/html": [
       "<div>\n",
       "<style scoped>\n",
       "    .dataframe tbody tr th:only-of-type {\n",
       "        vertical-align: middle;\n",
       "    }\n",
       "\n",
       "    .dataframe tbody tr th {\n",
       "        vertical-align: top;\n",
       "    }\n",
       "\n",
       "    .dataframe thead th {\n",
       "        text-align: right;\n",
       "    }\n",
       "</style>\n",
       "<table border=\"1\" class=\"dataframe\">\n",
       "  <thead>\n",
       "    <tr style=\"text-align: right;\">\n",
       "      <th></th>\n",
       "      <th>source</th>\n",
       "      <th>subscription_monthly_cost</th>\n",
       "      <th>retention_rate</th>\n",
       "      <th>count</th>\n",
       "      <th>revenue</th>\n",
       "    </tr>\n",
       "  </thead>\n",
       "  <tbody>\n",
       "    <tr>\n",
       "      <th>0</th>\n",
       "      <td>ads</td>\n",
       "      <td>29</td>\n",
       "      <td>0.191041</td>\n",
       "      <td>121246.0</td>\n",
       "      <td>94.460840</td>\n",
       "    </tr>\n",
       "    <tr>\n",
       "      <th>1</th>\n",
       "      <td>ads</td>\n",
       "      <td>49</td>\n",
       "      <td>0.016791</td>\n",
       "      <td>249177.0</td>\n",
       "      <td>84.071861</td>\n",
       "    </tr>\n",
       "    <tr>\n",
       "      <th>2</th>\n",
       "      <td>ads</td>\n",
       "      <td>99</td>\n",
       "      <td>0.002407</td>\n",
       "      <td>44046.0</td>\n",
       "      <td>120.366163</td>\n",
       "    </tr>\n",
       "    <tr>\n",
       "      <th>3</th>\n",
       "      <td>friend_referral</td>\n",
       "      <td>29</td>\n",
       "      <td>0.618289</td>\n",
       "      <td>7097.0</td>\n",
       "      <td>168.818656</td>\n",
       "    </tr>\n",
       "    <tr>\n",
       "      <th>4</th>\n",
       "      <td>friend_referral</td>\n",
       "      <td>49</td>\n",
       "      <td>0.399548</td>\n",
       "      <td>14589.0</td>\n",
       "      <td>228.250188</td>\n",
       "    </tr>\n",
       "    <tr>\n",
       "      <th>5</th>\n",
       "      <td>friend_referral</td>\n",
       "      <td>99</td>\n",
       "      <td>0.162655</td>\n",
       "      <td>2742.0</td>\n",
       "      <td>273.062363</td>\n",
       "    </tr>\n",
       "    <tr>\n",
       "      <th>6</th>\n",
       "      <td>seo</td>\n",
       "      <td>29</td>\n",
       "      <td>0.387147</td>\n",
       "      <td>18019.0</td>\n",
       "      <td>132.655808</td>\n",
       "    </tr>\n",
       "    <tr>\n",
       "      <th>7</th>\n",
       "      <td>seo</td>\n",
       "      <td>49</td>\n",
       "      <td>0.127215</td>\n",
       "      <td>36631.0</td>\n",
       "      <td>141.973056</td>\n",
       "    </tr>\n",
       "    <tr>\n",
       "      <th>8</th>\n",
       "      <td>seo</td>\n",
       "      <td>99</td>\n",
       "      <td>0.038277</td>\n",
       "      <td>6453.0</td>\n",
       "      <td>170.001395</td>\n",
       "    </tr>\n",
       "  </tbody>\n",
       "</table>\n",
       "</div>"
      ],
      "text/plain": [
       "            source  subscription_monthly_cost  retention_rate     count  \\\n",
       "0              ads                         29        0.191041  121246.0   \n",
       "1              ads                         49        0.016791  249177.0   \n",
       "2              ads                         99        0.002407   44046.0   \n",
       "3  friend_referral                         29        0.618289    7097.0   \n",
       "4  friend_referral                         49        0.399548   14589.0   \n",
       "5  friend_referral                         99        0.162655    2742.0   \n",
       "6              seo                         29        0.387147   18019.0   \n",
       "7              seo                         49        0.127215   36631.0   \n",
       "8              seo                         99        0.038277    6453.0   \n",
       "\n",
       "      revenue  \n",
       "0   94.460840  \n",
       "1   84.071861  \n",
       "2  120.366163  \n",
       "3  168.818656  \n",
       "4  228.250188  \n",
       "5  273.062363  \n",
       "6  132.655808  \n",
       "7  141.973056  \n",
       "8  170.001395  "
      ]
     },
     "execution_count": 33,
     "metadata": {},
     "output_type": "execute_result"
    }
   ],
   "source": [
    "# group by source and price and check retention rate as defined above\n",
    "source_retention = data.groupby(['source', 'subscription_monthly_cost']).apply(\n",
    "                    lambda x: pd.Series({\n",
    "                             # active users\n",
    "                            'retention_rate': x['is_active'].mean(),\n",
    "                             # total count by price and source\n",
    "                            'count': x['is_active'].count(),\n",
    "                            # avg revenue by price and source\n",
    "                            'revenue' : (x['subscription_monthly_cost'] * x['billing_cycles']).mean()\n",
    "  })\n",
    ").reset_index()\n",
    "      \n",
    "source_retention"
   ]
  },
  {
   "cell_type": "code",
   "execution_count": 34,
   "id": "fe706e8a",
   "metadata": {},
   "outputs": [
    {
     "data": {
      "image/png": "[encoded data removed]",
      "text/plain": [
       "<Figure size 432x288 with 1 Axes>"
      ]
     },
     "metadata": {
      "needs_background": "light"
     },
     "output_type": "display_data"
    }
   ],
   "source": [
    "# Plot retention rate by source and price\n",
    "sns.barplot(x=\"source\", hue=\"subscription_monthly_cost\", y=\"retention_rate\", data=source_retention)\n",
    "plt.show()"
   ]
  },
  {
   "cell_type": "code",
   "execution_count": 35,
   "id": "ec0dd0c6",
   "metadata": {},
   "outputs": [
    {
     "data": {
      "image/png": "[encoded data removed]",
      "text/plain": [
       "<Figure size 432x288 with 1 Axes>"
      ]
     },
     "metadata": {
      "needs_background": "light"
     },
     "output_type": "display_data"
    }
   ],
   "source": [
    "# Plot user count by source and price\n",
    "sns.barplot(x=\"source\", hue=\"subscription_monthly_cost\", y=\"count\", data=source_retention)\n",
    "plt.show()"
   ]
  },
  {
   "cell_type": "code",
   "execution_count": 36,
   "id": "bbb1d7bf",
   "metadata": {},
   "outputs": [
    {
     "data": {
      "image/png": "[encoded data removed]",
      "text/plain": [
       "<Figure size 432x288 with 1 Axes>"
      ]
     },
     "metadata": {
      "needs_background": "light"
     },
     "output_type": "display_data"
    }
   ],
   "source": [
    "# Avg user revenue for each source within the first 8 months\n",
    "sns.barplot(x=\"source\", hue=\"subscription_monthly_cost\", y=\"revenue\", data=source_retention)\n",
    "plt.show()"
   ]
  },
  {
   "cell_type": "markdown",
   "id": "86046d6d",
   "metadata": {},
   "source": [
    "#### Insights\n",
    "- The high majority of users is coming from ads. Unfortunately, these users have the lowest retention and, consequently, the lowest LTV. Even worse, those ads are mainly attracting \\\\$49 customers. That’s highly inefficient. Ads campaigns should be optimized to attract customers with higher likelihood of buying the optimal price point\n",
    "- Friend referral is doing really well, but has very low absolute numbers. Increasing this is a big opportunity. And the discount that is usually given to referred users can also be used as a leverage for the price discussion from above\n",
    "- SEO is also doing better than ads in terms of retention, but there are way less users. This is also a big opportunity, especially because SEO is the only one that doesn’t cost anything"
   ]
  },
  {
   "cell_type": "code",
   "execution_count": null,
   "id": "dc3049dc",
   "metadata": {},
   "outputs": [],
   "source": []
  }
 ],
 "metadata": {
  "kernelspec": {
   "display_name": "Python 3",
   "language": "python",
   "name": "python3"
  },
  "language_info": {
   "codemirror_mode": {
    "name": "ipython",
    "version": 3
   },
   "file_extension": ".py",
   "mimetype": "text/x-python",
   "name": "python",
   "nbconvert_exporter": "python",
   "pygments_lexer": "ipython3",
   "version": "3.8.8"
  }
 },
 "nbformat": 4,
 "nbformat_minor": 5
}
